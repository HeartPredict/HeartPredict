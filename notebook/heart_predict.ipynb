{
 "cells": [
  {
   "cell_type": "markdown",
   "id": "f4da145b3dbfdcc2",
   "metadata": {},
   "source": [
    "# HeartPredict\n",
    "\n",
    "HeartPredict is a Python library designed to analyze\n",
    "and predict heart failure outcomes using patient data.\n",
    "\n",
    "## Dataset information\n",
    "\n",
    "The dataset used for this analysis was obtained from kaggle.com.\n",
    "It contains 5000 medical records of patients who had heart-failure\n",
    "and is licensed under CC0; made available under [this URL](https://www.kaggle.com/datasets/aadarshvelu/heart-failure-prediction-clinical-records).\n"
   ]
  },
  {
   "cell_type": "code",
   "id": "6ac6bdcb95fe229",
   "metadata": {},
   "source": [
    "from heartpredict.backend.data import ProjectData, MLData, FeatureData\n",
    "from heartpredict.backend.descriptive import (\n",
    "    DescriptiveBackend,\n",
    "    save_distribution_plot,\n",
    "    show_plot,\n",
    ")\n",
    "from heartpredict.backend.ml import MLBackend, PretrainedModel\n",
    "from heartpredict.backend.survival import SurvivalBackend\n",
    "from heartpredict.backend.correlation import CorrelationBackend\n",
    "\n",
    "from pathlib import Path\n",
    "import seaborn"
   ],
   "outputs": [],
   "execution_count": null
  },
  {
   "cell_type": "code",
   "id": "4e86240e13dcde11",
   "metadata": {},
   "source": [
    "seed = 42\n",
    "path_to_data = \"../data/heart_failure_clinical_records.csv\"\n",
    "project_data = ProjectData(Path(path_to_data))\n",
    "ml_data = MLData(project_data, 0.2, seed)\n",
    "descriptive_data = DescriptiveBackend(project_data)"
   ],
   "outputs": [],
   "execution_count": null
  },
  {
   "cell_type": "markdown",
   "id": "2b6d13a4cfec16d9",
   "metadata": {},
   "source": [
    "### Descriptive Analysis\n",
    "\n",
    "- What are the basic statistics (mean, median, standard deviation)\n",
    "  of the clinical features?\n",
    "- How is the age distribution of patients?\n",
    "- What is the proportion of patients with conditions like anaemia, diabetes\n",
    "  and high blood pressure?"
   ]
  },
  {
   "cell_type": "code",
   "id": "1345be78",
   "metadata": {},
   "source": [
    "# Calculate exemplary discrete and boolean stats\n",
    "discrete_column = \"creatinine_phosphokinase\"\n",
    "boolean_column = \"smoking\"\n",
    "\n",
    "boolean_stat = descriptive_data.calculate_boolean_statistics(boolean_column)\n",
    "discrete_stat = descriptive_data.calculate_discrete_statistics(discrete_column)\n",
    "\n",
    "print(boolean_stat)\n",
    "print(discrete_stat)"
   ],
   "outputs": [],
   "execution_count": null
  },
  {
   "cell_type": "code",
   "id": "f973dc03",
   "metadata": {},
   "source": [
    "# Find out how many patients are over 60\n",
    "over_60 = descriptive_data.create_conditional_dataset(col=\"age\", num=60, rel=\">\")\n",
    "\n",
    "print(f\"{len(over_60)} of {len(descriptive_data.df)} patients are over 60\")"
   ],
   "outputs": [],
   "execution_count": null
  },
  {
   "cell_type": "code",
   "id": "09b57c4e",
   "metadata": {},
   "source": [
    "# How is the age distribution?\n",
    "col = \"age\"\n",
    "age_distribution = descriptive_data.save_variable_distribution(col)\n",
    "age_plot = save_distribution_plot(age_distribution, col)\n",
    "show_plot(age_plot)"
   ],
   "outputs": [],
   "execution_count": null
  },
  {
   "cell_type": "code",
   "id": "55244ba7",
   "metadata": {},
   "source": [
    "# How many patients have high blood pressure?\n",
    "col = \"high_blood_pressure\"\n",
    "age_distribution = descriptive_data.save_variable_distribution(col)\n",
    "age_plot = save_distribution_plot(age_distribution, col)\n",
    "show_plot(age_plot)"
   ],
   "outputs": [],
   "execution_count": null
  },
  {
   "cell_type": "markdown",
   "id": "f4fd744a6a1dc523",
   "metadata": {},
   "source": [
    "### Correlation and Feature Importance\n",
    "\n",
    "- Which clinical features are most strongly correlated with the DEATH_EVENT?\n",
    "  And what are the most important features for predicting heart failure outcomes?\n",
    "- How do different clinical features contribute\n",
    "  to the risk of death due to heart failure?"
   ]
  },
  {
   "cell_type": "code",
   "id": "ae9db68c3f97cc26",
   "metadata": {},
   "source": [
    "from heartpredict.backend.correlation import CorrelationMethod\n",
    "\n",
    "\n",
    "correlation_backend = CorrelationBackend.build(project_data)\n",
    "matrix = correlation_backend.get_correlation_matrix(CorrelationMethod.PEARSON)\n",
    "seaborn.heatmap(\n",
    "    matrix, fmt=\".1f\", annot=True, cmap=seaborn.cubehelix_palette(as_cmap=True)\n",
    ")"
   ],
   "outputs": [],
   "execution_count": null
  },
  {
   "cell_type": "markdown",
   "id": "366f02a8f57b5db0",
   "metadata": {},
   "source": [
    "### Predictive Analysis\n",
    "\n",
    "- How accurately can we predict DEATH_EVENT using clinical features?\n",
    "- Which machine learning model performs best for this prediction task?\n",
    "\n",
    "We used the scikit-learn library to train different classifier models.\n",
    "Therefore, we split the dataset into training / test set (80%) and a validation set (20%).\n",
    "For every model, we search for the best value of a tunable hyperparameter using k-fold cross-validation on the training / test set.\n",
    "We choose the best value for the hyperparameter based on the mean accuracy of the cross-validation folds.\n",
    "After that the model is trained on the entire training / test set and evaluated on the validation set.\n",
    "In the following table, we summarize the results of the different models, where the accuracy is the accuracy on the validation set:\n",
    "\n",
    "| Model                          | Accuracy | Hyperparameter      | Best Hyperparameter Value |\n",
    "|--------------------------------|----------|---------------------|---------------------------|\n",
    "| Decision Tree Classifier       | 0.859    | Max Depth           | 5                         |\n",
    "| Random Forest Classifier       | 0.992    | Max Depth           | 5                         |\n",
    "| K-Nearest Neighbors Classifier | 0.977    | Number of Neighbors | 3                         |\n",
    "| Linear Discriminant Analysis   | 0.839    | -                   | -                         |\n",
    "| Quadratic Discriminant Analysis| 0.829    | -                   | -                         |\n",
    "\n",
    "The Random Forest Classifier achieved the highest accuracy of 0.992, when setting the maximum depth of the tree to 5.\n",
    "\n",
    "The following code snippet shows the classification results for the different models:"
   ]
  },
  {
   "cell_type": "code",
   "id": "338fcddc1db2891",
   "metadata": {},
   "source": [
    "ml_backend = MLBackend(ml_data)\n",
    "ml_backend.classification_for_different_classifiers()"
   ],
   "outputs": [],
   "execution_count": null
  },
  {
   "metadata": {},
   "cell_type": "markdown",
   "source": "In the following code cell, you can try to predict the DEATH_EVENT for a given patient set (You need to modify the example_data_points.csv):",
   "id": "72f28c6bf6b241e"
  },
  {
   "metadata": {},
   "cell_type": "code",
   "source": [
    "# Predict DEATH_EVENT for a given patient set\n",
    "pretrained_model = PretrainedModel()\n",
    "pretrained_model.load_model(\"../results/trained_models/classifier/RandomForestClassifier_model_42.joblib\")\n",
    "\n",
    "feature_data = FeatureData(ProjectData(Path(\"../data/example_data_points.csv\")), Path(\"../results/scalers/used_scaler.joblib\"))\n",
    "\n",
    "idx = 0\n",
    "for y  in pretrained_model.predict(feature_data):\n",
    "    print(\"Patient\", idx, \":\", y)\n",
    "    idx += 1"
   ],
   "id": "a32a870c5a14ccaf",
   "outputs": [],
   "execution_count": null
  },
  {
   "cell_type": "markdown",
   "id": "d18b069d1e0127c0",
   "metadata": {},
   "source": [
    "### Survival Analysis\n",
    "\n",
    "- Can we identify patient subgroups with higher or lower survival probabilities? \n",
    "- And what is the survival rate of patients over the follow-up period?\n",
    "\n",
    "We can use Kaplan-Meier survival curves to visualize the survival probabilities of patients with different clinical features.\n",
    "This will help us understand how different risk factors affect patient outcomes.\n",
    "\n",
    "Therefore, we used a regression model to predict the survival probability of the patients.\n",
    "Then we assign the patients to high-risk, medium-risk and low-risk groups based on their predicted survival probabilities.\n",
    "For each group, we generate a Kaplan-Meier survival curve to visualize the survival probabilities over time."
   ]
  },
  {
   "cell_type": "code",
   "id": "1f4e15ee14c52b0c",
   "metadata": {},
   "source": [
    "regressor = \"../results/trained_models/regressor/LogisticRegression_model_42.joblib\"\n",
    "\n",
    "survival_backend = SurvivalBackend(ml_data)\n",
    "survival_backend.create_kaplan_meier_plot_for(Path(regressor), show_plot=True)"
   ],
   "outputs": [],
   "execution_count": null
  },
  {
   "cell_type": "markdown",
   "id": "92d8e95a861f67bd",
   "metadata": {},
   "source": [
    "### Risk Factor Analysis\n",
    "\n",
    "- How does smoking affect the risk of death in heart failure patients?\n",
    "- What is the impact of serum creatinine and serum sodium levels on patient outcomes?\n",
    "- How does the combination of multiple risk factors affect the likelihood\n",
    "  of heart failure-related death?"
   ]
  },
  {
   "cell_type": "code",
   "id": "6b2c9b4993a6918e",
   "metadata": {},
   "source": [],
   "outputs": [],
   "execution_count": null
  },
  {
   "metadata": {},
   "cell_type": "code",
   "source": "",
   "id": "d02400c10f3be896",
   "outputs": [],
   "execution_count": null
  }
 ],
 "metadata": {
  "kernelspec": {
   "display_name": "Python 3",
   "language": "python",
   "name": "python3"
  },
  "language_info": {
   "codemirror_mode": {
    "name": "ipython",
    "version": 3
   },
   "file_extension": ".py",
   "mimetype": "text/x-python",
   "name": "python",
   "nbconvert_exporter": "python",
   "pygments_lexer": "ipython3",
   "version": "3.12.3"
  }
 },
 "nbformat": 4,
 "nbformat_minor": 5
}
